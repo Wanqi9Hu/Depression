{
 "cells": [
  {
   "cell_type": "markdown",
   "metadata": {},
   "source": [
    "LSTM"
   ]
  },
  {
   "cell_type": "code",
   "execution_count": 23,
   "metadata": {},
   "outputs": [],
   "source": [
    "import pandas as pd\n",
    "import numpy as np"
   ]
  },
  {
   "cell_type": "code",
   "execution_count": 24,
   "metadata": {
    "colab": {
     "base_uri": "https://localhost:8080/",
     "height": 423
    },
    "id": "BcIjoJdu12L0",
    "outputId": "16834921-2a72-4116-ed9c-920b0125a31f"
   },
   "outputs": [
    {
     "data": {
      "text/html": [
       "<div>\n",
       "<style scoped>\n",
       "    .dataframe tbody tr th:only-of-type {\n",
       "        vertical-align: middle;\n",
       "    }\n",
       "\n",
       "    .dataframe tbody tr th {\n",
       "        vertical-align: top;\n",
       "    }\n",
       "\n",
       "    .dataframe thead th {\n",
       "        text-align: right;\n",
       "    }\n",
       "</style>\n",
       "<table border=\"1\" class=\"dataframe\">\n",
       "  <thead>\n",
       "    <tr style=\"text-align: right;\">\n",
       "      <th></th>\n",
       "      <th>predictions</th>\n",
       "      <th>prediction_label</th>\n",
       "      <th>test_label</th>\n",
       "    </tr>\n",
       "  </thead>\n",
       "  <tbody>\n",
       "    <tr>\n",
       "      <th>0</th>\n",
       "      <td>0.339279</td>\n",
       "      <td>0</td>\n",
       "      <td>0</td>\n",
       "    </tr>\n",
       "    <tr>\n",
       "      <th>1</th>\n",
       "      <td>0.997258</td>\n",
       "      <td>1</td>\n",
       "      <td>1</td>\n",
       "    </tr>\n",
       "    <tr>\n",
       "      <th>2</th>\n",
       "      <td>0.533990</td>\n",
       "      <td>1</td>\n",
       "      <td>1</td>\n",
       "    </tr>\n",
       "    <tr>\n",
       "      <th>3</th>\n",
       "      <td>0.104176</td>\n",
       "      <td>0</td>\n",
       "      <td>0</td>\n",
       "    </tr>\n",
       "    <tr>\n",
       "      <th>4</th>\n",
       "      <td>0.445157</td>\n",
       "      <td>0</td>\n",
       "      <td>0</td>\n",
       "    </tr>\n",
       "    <tr>\n",
       "      <th>...</th>\n",
       "      <td>...</td>\n",
       "      <td>...</td>\n",
       "      <td>...</td>\n",
       "    </tr>\n",
       "    <tr>\n",
       "      <th>4038</th>\n",
       "      <td>0.876708</td>\n",
       "      <td>1</td>\n",
       "      <td>0</td>\n",
       "    </tr>\n",
       "    <tr>\n",
       "      <th>4039</th>\n",
       "      <td>0.552670</td>\n",
       "      <td>1</td>\n",
       "      <td>1</td>\n",
       "    </tr>\n",
       "    <tr>\n",
       "      <th>4040</th>\n",
       "      <td>0.999053</td>\n",
       "      <td>1</td>\n",
       "      <td>1</td>\n",
       "    </tr>\n",
       "    <tr>\n",
       "      <th>4041</th>\n",
       "      <td>0.014575</td>\n",
       "      <td>0</td>\n",
       "      <td>1</td>\n",
       "    </tr>\n",
       "    <tr>\n",
       "      <th>4042</th>\n",
       "      <td>0.564839</td>\n",
       "      <td>1</td>\n",
       "      <td>0</td>\n",
       "    </tr>\n",
       "  </tbody>\n",
       "</table>\n",
       "<p>4043 rows × 3 columns</p>\n",
       "</div>"
      ],
      "text/plain": [
       "      predictions  prediction_label  test_label\n",
       "0        0.339279                 0           0\n",
       "1        0.997258                 1           1\n",
       "2        0.533990                 1           1\n",
       "3        0.104176                 0           0\n",
       "4        0.445157                 0           0\n",
       "...           ...               ...         ...\n",
       "4038     0.876708                 1           0\n",
       "4039     0.552670                 1           1\n",
       "4040     0.999053                 1           1\n",
       "4041     0.014575                 0           1\n",
       "4042     0.564839                 1           0\n",
       "\n",
       "[4043 rows x 3 columns]"
      ]
     },
     "execution_count": 24,
     "metadata": {},
     "output_type": "execute_result"
    }
   ],
   "source": [
    "result = pd.read_csv('result_test_lstm.csv')\n",
    "result=result.iloc[:,0:3]\n",
    "result"
   ]
  },
  {
   "cell_type": "code",
   "execution_count": 25,
   "metadata": {
    "id": "wsgRDL5M2Ksq"
   },
   "outputs": [],
   "source": [
    "y_test = result['test_label']\n",
    "y_pred = result['prediction_label']\n",
    "y_score = result['predictions']"
   ]
  },
  {
   "cell_type": "code",
   "execution_count": 26,
   "metadata": {
    "colab": {
     "base_uri": "https://localhost:8080/"
    },
    "id": "C7JFHDrkc-Pd",
    "outputId": "7b617772-9d4a-4143-d521-39094893ba41"
   },
   "outputs": [
    {
     "name": "stdout",
     "output_type": "stream",
     "text": [
      "              precision    recall  f1-score   support\n",
      "\n",
      "           0       0.76      0.82      0.79      2056\n",
      "           1       0.80      0.73      0.77      1987\n",
      "\n",
      "    accuracy                           0.78      4043\n",
      "   macro avg       0.78      0.78      0.78      4043\n",
      "weighted avg       0.78      0.78      0.78      4043\n",
      "\n",
      "precision: 0.780972665298894\n",
      "recall: 0.7783717950726414\n",
      "f1: 0.7786117303652347\n"
     ]
    }
   ],
   "source": [
    "from sklearn import metrics\n",
    "print(metrics.classification_report(y_test, y_pred))\n",
    "\n",
    "print(\"precision:\", metrics.precision_score(y_test, y_pred, average='macro'))\n",
    "print(\"recall:\", metrics.recall_score(y_test, y_pred, average='macro'))\n",
    "print(\"f1:\", metrics.f1_score(y_test, y_pred, average='weighted'))"
   ]
  },
  {
   "cell_type": "code",
   "execution_count": 27,
   "metadata": {
    "colab": {
     "base_uri": "https://localhost:8080/",
     "height": 279
    },
    "id": "GR8Crh73dV56",
    "outputId": "f18871f7-b5b9-4abf-a792-037f4aedf4d2"
   },
   "outputs": [
    {
     "data": {
      "image/png": "[encoded data removed]",
      "text/plain": [
       "<Figure size 432x288 with 1 Axes>"
      ]
     },
     "metadata": {},
     "output_type": "display_data"
    }
   ],
   "source": [
    "from sklearn.metrics import roc_curve, auc\n",
    "import matplotlib.pyplot as plt\n",
    "import seaborn as sns\n",
    " \n",
    "fpr, tpr, thershold = roc_curve(y_test, y_score)\n",
    "roc_auc = auc(fpr,tpr)\n",
    "sns.set_style('whitegrid')\n",
    "\n",
    "lw = 2\n",
    "#plt.figure(figsize=(5,5))\n",
    "plt.plot(fpr, tpr, color='steelblue',\n",
    "         lw=lw, label='ROC curve (area = %0.2f)' % roc_auc) \n",
    "plt.plot([0, 1], [0, 1], color='navy', lw=lw, linestyle='--')\n",
    "plt.xlim([-0.05, 1.05])\n",
    "plt.ylim([0.0, 1.05])\n",
    "plt.xlabel('False Positive Rate')\n",
    "plt.ylabel('True Positive Rate')\n",
    "#plt.title('Receiver operating characteristic example')\n",
    "plt.legend(loc=\"lower right\")\n",
    "plt.grid(True)\n",
    "plt.savefig(\"ROC_LSTM.png\")"
   ]
  },
  {
   "cell_type": "code",
   "execution_count": 28,
   "metadata": {
    "colab": {
     "base_uri": "https://localhost:8080/",
     "height": 336
    },
    "id": "k7BgccpwddQY",
    "outputId": "1f9e36d6-b493-4a89-a459-0c05e4e7942f"
   },
   "outputs": [
    {
     "name": "stdout",
     "output_type": "stream",
     "text": [
      "[[1691  365]\n",
      " [ 528 1459]]\n"
     ]
    },
    {
     "data": {
      "image/png": "[encoded data removed]",
      "text/plain": [
       "<Figure size 432x288 with 2 Axes>"
      ]
     },
     "metadata": {},
     "output_type": "display_data"
    }
   ],
   "source": [
    "import seaborn as sns\n",
    "from sklearn.metrics import confusion_matrix\n",
    "import matplotlib.pyplot as plt\n",
    "\n",
    "sns.set()\n",
    "f,ax=plt.subplots()\n",
    "CM= confusion_matrix(y_test, y_pred)\n",
    "print(CM)\n",
    "sns.heatmap(CM,ax=ax, cmap=\"YlGn\")\n",
    "for i in range(2):\n",
    "    for j in range(2):\n",
    "        text = ax.text(j+0.5, i+0.5, CM[i, j],\n",
    "                       ha=\"center\", va=\"center\", color=\"k\")\n",
    "\n",
    "ax.text(0.5, 0.5, CM[0, 0],ha=\"center\", va=\"center\", color=\"w\")\n",
    "\n",
    "ax.set_title('Confusion Matrix') \n",
    "ax.set_xlabel('Predicted Label') \n",
    "ax.set_ylabel('True Label')\n",
    "plt.savefig(\"confusion matrix_lstm.png\")"
   ]
  },
  {
   "cell_type": "markdown",
   "metadata": {
    "id": "G6VPYsuysTBB"
   },
   "source": [
    "Bert Result"
   ]
  },
  {
   "cell_type": "code",
   "execution_count": 18,
   "metadata": {
    "colab": {
     "base_uri": "https://localhost:8080/",
     "height": 423
    },
    "id": "crakGsfDsWio",
    "outputId": "1e333533-1749-47ff-db57-864ea4808c2f"
   },
   "outputs": [
    {
     "data": {
      "text/html": [
       "<div>\n",
       "<style scoped>\n",
       "    .dataframe tbody tr th:only-of-type {\n",
       "        vertical-align: middle;\n",
       "    }\n",
       "\n",
       "    .dataframe tbody tr th {\n",
       "        vertical-align: top;\n",
       "    }\n",
       "\n",
       "    .dataframe thead th {\n",
       "        text-align: right;\n",
       "    }\n",
       "</style>\n",
       "<table border=\"1\" class=\"dataframe\">\n",
       "  <thead>\n",
       "    <tr style=\"text-align: right;\">\n",
       "      <th></th>\n",
       "      <th>predictions</th>\n",
       "      <th>prediction_label</th>\n",
       "      <th>test_label</th>\n",
       "    </tr>\n",
       "  </thead>\n",
       "  <tbody>\n",
       "    <tr>\n",
       "      <th>0</th>\n",
       "      <td>0.705478</td>\n",
       "      <td>1</td>\n",
       "      <td>0</td>\n",
       "    </tr>\n",
       "    <tr>\n",
       "      <th>1</th>\n",
       "      <td>0.998768</td>\n",
       "      <td>1</td>\n",
       "      <td>1</td>\n",
       "    </tr>\n",
       "    <tr>\n",
       "      <th>2</th>\n",
       "      <td>0.921531</td>\n",
       "      <td>1</td>\n",
       "      <td>1</td>\n",
       "    </tr>\n",
       "    <tr>\n",
       "      <th>3</th>\n",
       "      <td>0.074204</td>\n",
       "      <td>0</td>\n",
       "      <td>0</td>\n",
       "    </tr>\n",
       "    <tr>\n",
       "      <th>4</th>\n",
       "      <td>0.005692</td>\n",
       "      <td>0</td>\n",
       "      <td>0</td>\n",
       "    </tr>\n",
       "    <tr>\n",
       "      <th>...</th>\n",
       "      <td>...</td>\n",
       "      <td>...</td>\n",
       "      <td>...</td>\n",
       "    </tr>\n",
       "    <tr>\n",
       "      <th>4052</th>\n",
       "      <td>0.991931</td>\n",
       "      <td>1</td>\n",
       "      <td>1</td>\n",
       "    </tr>\n",
       "    <tr>\n",
       "      <th>4053</th>\n",
       "      <td>0.996485</td>\n",
       "      <td>1</td>\n",
       "      <td>1</td>\n",
       "    </tr>\n",
       "    <tr>\n",
       "      <th>4054</th>\n",
       "      <td>0.921281</td>\n",
       "      <td>1</td>\n",
       "      <td>0</td>\n",
       "    </tr>\n",
       "    <tr>\n",
       "      <th>4055</th>\n",
       "      <td>0.288661</td>\n",
       "      <td>0</td>\n",
       "      <td>1</td>\n",
       "    </tr>\n",
       "    <tr>\n",
       "      <th>4056</th>\n",
       "      <td>0.992476</td>\n",
       "      <td>1</td>\n",
       "      <td>1</td>\n",
       "    </tr>\n",
       "  </tbody>\n",
       "</table>\n",
       "<p>4057 rows × 3 columns</p>\n",
       "</div>"
      ],
      "text/plain": [
       "      predictions  prediction_label  test_label\n",
       "0        0.705478                 1           0\n",
       "1        0.998768                 1           1\n",
       "2        0.921531                 1           1\n",
       "3        0.074204                 0           0\n",
       "4        0.005692                 0           0\n",
       "...           ...               ...         ...\n",
       "4052     0.991931                 1           1\n",
       "4053     0.996485                 1           1\n",
       "4054     0.921281                 1           0\n",
       "4055     0.288661                 0           1\n",
       "4056     0.992476                 1           1\n",
       "\n",
       "[4057 rows x 3 columns]"
      ]
     },
     "execution_count": 18,
     "metadata": {},
     "output_type": "execute_result"
    }
   ],
   "source": [
    "result = pd.read_csv('result_test_bert.csv')\n",
    "result"
   ]
  },
  {
   "cell_type": "code",
   "execution_count": 19,
   "metadata": {
    "id": "6bj1Dqg9sWwO"
   },
   "outputs": [],
   "source": [
    "y_test = result['test_label']\n",
    "y_pred = result['prediction_label']\n",
    "y_score = result['predictions']"
   ]
  },
  {
   "cell_type": "code",
   "execution_count": 20,
   "metadata": {
    "colab": {
     "base_uri": "https://localhost:8080/"
    },
    "id": "siXekwxYsW3u",
    "outputId": "e74d6975-1b94-4696-df0e-082cf1563b13"
   },
   "outputs": [
    {
     "name": "stdout",
     "output_type": "stream",
     "text": [
      "              precision    recall  f1-score   support\n",
      "\n",
      "           0       0.86      0.79      0.82      1993\n",
      "           1       0.81      0.88      0.84      2064\n",
      "\n",
      "    accuracy                           0.83      4057\n",
      "   macro avg       0.83      0.83      0.83      4057\n",
      "weighted avg       0.83      0.83      0.83      4057\n",
      "\n",
      "precision: 0.8345454732867816\n",
      "recall: 0.831378575012544\n",
      "f1: 0.8317435027055562\n"
     ]
    }
   ],
   "source": [
    "from sklearn import metrics\n",
    "print(metrics.classification_report(y_test, y_pred))\n",
    "\n",
    "print(\"precision:\", metrics.precision_score(y_test, y_pred, average='macro'))\n",
    "print(\"recall:\", metrics.recall_score(y_test, y_pred, average='macro'))\n",
    "print(\"f1:\", metrics.f1_score(y_test, y_pred, average='weighted'))"
   ]
  },
  {
   "cell_type": "code",
   "execution_count": 21,
   "metadata": {
    "colab": {
     "base_uri": "https://localhost:8080/",
     "height": 285
    },
    "id": "CCtUgp90sW7R",
    "outputId": "32d72e4b-bb55-42e7-c47e-8bde74b4593d"
   },
   "outputs": [
    {
     "data": {
      "image/png": "[encoded data removed]",
      "text/plain": [
       "<Figure size 432x288 with 1 Axes>"
      ]
     },
     "metadata": {},
     "output_type": "display_data"
    }
   ],
   "source": [
    "from sklearn.metrics import roc_curve, auc\n",
    "import matplotlib.pyplot as plt\n",
    "import seaborn as sns\n",
    " \n",
    "fpr, tpr, thershold = roc_curve(y_test, y_score)\n",
    "roc_auc = auc(fpr,tpr)\n",
    "sns.set_style('whitegrid')\n",
    "\n",
    "lw = 2\n",
    "#plt.figure(figsize=(5,5))\n",
    "plt.plot(fpr, tpr, color='steelblue',\n",
    "         lw=lw, label='ROC curve (area = %0.2f)' % roc_auc) \n",
    "plt.plot([0, 1], [0, 1], color='navy', lw=lw, linestyle='--')\n",
    "plt.xlim([-0.05, 1.05])\n",
    "plt.ylim([0.0, 1.05])\n",
    "plt.xlabel('False Positive Rate')\n",
    "plt.ylabel('True Positive Rate')\n",
    "#plt.title('Receiver operating characteristic example')\n",
    "plt.legend(loc=\"lower right\")\n",
    "plt.grid(True)\n",
    "plt.savefig(\"ROC_BERT.png\")"
   ]
  },
  {
   "cell_type": "code",
   "execution_count": 22,
   "metadata": {
    "colab": {
     "base_uri": "https://localhost:8080/",
     "height": 336
    },
    "id": "eruh41R3sW97",
    "outputId": "62b3a360-4149-4634-eee0-9a2b0e302ebc"
   },
   "outputs": [
    {
     "name": "stdout",
     "output_type": "stream",
     "text": [
      "[[1570  423]\n",
      " [ 258 1806]]\n"
     ]
    },
    {
     "data": {
      "image/png": "[encoded data removed]",
      "text/plain": [
       "<Figure size 432x288 with 2 Axes>"
      ]
     },
     "metadata": {},
     "output_type": "display_data"
    }
   ],
   "source": [
    "import seaborn as sns\n",
    "from sklearn.metrics import confusion_matrix\n",
    "import matplotlib.pyplot as plt\n",
    "\n",
    "sns.set()\n",
    "f,ax=plt.subplots()\n",
    "CM= confusion_matrix(y_test, y_pred)\n",
    "print(CM)\n",
    "sns.heatmap(CM,ax=ax, cmap=\"YlGn\")\n",
    "for i in range(2):\n",
    "    for j in range(2):\n",
    "        text = ax.text(j+0.5, i+0.5, CM[i, j],\n",
    "                       ha=\"center\", va=\"center\", color=\"k\")\n",
    "\n",
    "ax.text(0.5, 0.5, CM[0, 0],ha=\"center\", va=\"center\", color=\"w\")\n",
    "\n",
    "ax.set_title('Confusion Matrix') \n",
    "ax.set_xlabel('Predicted Label') \n",
    "ax.set_ylabel('True Label')\n",
    "plt.savefig(\"confusion matrix_BERT.png\")"
   ]
  },
  {
   "cell_type": "code",
   "execution_count": null,
   "metadata": {
    "id": "m84WddiPtf-M"
   },
   "outputs": [],
   "source": []
  }
 ],
 "metadata": {
  "colab": {
   "collapsed_sections": [],
   "name": "Stats402 NLP on Twitter data.ipynb",
   "provenance": [],
   "toc_visible": true
  },
  "kernelspec": {
   "display_name": "Python 3",
   "language": "python",
   "name": "python3"
  },
  "language_info": {
   "codemirror_mode": {
    "name": "ipython",
    "version": 3
   },
   "file_extension": ".py",
   "mimetype": "text/x-python",
   "name": "python",
   "nbconvert_exporter": "python",
   "pygments_lexer": "ipython3",
   "version": "3.8.8"
  }
 },
 "nbformat": 4,
 "nbformat_minor": 1
}
