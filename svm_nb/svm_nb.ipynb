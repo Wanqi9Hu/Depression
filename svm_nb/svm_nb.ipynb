{
 "cells": [
  {
   "cell_type": "markdown",
   "metadata": {
    "id": "HSF1XyGG7WSL"
   },
   "source": [
    "TF-IDF"
   ]
  },
  {
   "cell_type": "code",
   "execution_count": 1,
   "metadata": {
    "id": "YA3aZIqR3Kzm"
   },
   "outputs": [],
   "source": [
    "import numpy as np \n",
    "import pandas as pd \n",
    "import re"
   ]
  },
  {
   "cell_type": "code",
   "execution_count": 2,
   "metadata": {},
   "outputs": [],
   "source": [
    "from datetime import datetime\n",
    "startTimeScript = datetime.now()"
   ]
  },
  {
   "cell_type": "code",
   "execution_count": 3,
   "metadata": {
    "colab": {
     "base_uri": "https://localhost:8080/",
     "height": 423
    },
    "id": "UnkTBbVA7ZdD",
    "outputId": "b5c71870-edd2-4f47-eda2-ba3e98015cd9"
   },
   "outputs": [
    {
     "data": {
      "text/html": [
       "<div>\n",
       "<style scoped>\n",
       "    .dataframe tbody tr th:only-of-type {\n",
       "        vertical-align: middle;\n",
       "    }\n",
       "\n",
       "    .dataframe tbody tr th {\n",
       "        vertical-align: top;\n",
       "    }\n",
       "\n",
       "    .dataframe thead th {\n",
       "        text-align: right;\n",
       "    }\n",
       "</style>\n",
       "<table border=\"1\" class=\"dataframe\">\n",
       "  <thead>\n",
       "    <tr style=\"text-align: right;\">\n",
       "      <th></th>\n",
       "      <th>id</th>\n",
       "      <th>text</th>\n",
       "      <th>lable</th>\n",
       "      <th>normalized_text</th>\n",
       "    </tr>\n",
       "  </thead>\n",
       "  <tbody>\n",
       "    <tr>\n",
       "      <th>0</th>\n",
       "      <td>1680093728</td>\n",
       "      <td>@Dreameress1 Hello!!!  Hows it going?</td>\n",
       "      <td>0</td>\n",
       "      <td>hello    going</td>\n",
       "    </tr>\n",
       "    <tr>\n",
       "      <th>1</th>\n",
       "      <td>2053040367</td>\n",
       "      <td>is on the train to london</td>\n",
       "      <td>0</td>\n",
       "      <td>train london</td>\n",
       "    </tr>\n",
       "    <tr>\n",
       "      <th>2</th>\n",
       "      <td>2060651098</td>\n",
       "      <td>@TheLadyJane hey i wrote you a message today  ...</td>\n",
       "      <td>0</td>\n",
       "      <td>hey wrot mess today kind gam  ar ref  playin</td>\n",
       "    </tr>\n",
       "    <tr>\n",
       "      <th>3</th>\n",
       "      <td>2059350074</td>\n",
       "      <td>@SuperRecords goodnight , im off to bed also  ...</td>\n",
       "      <td>0</td>\n",
       "      <td>goodnight  im bed also  nic talk  d</td>\n",
       "    </tr>\n",
       "    <tr>\n",
       "      <th>4</th>\n",
       "      <td>1960820806</td>\n",
       "      <td>@SilverSteer I am always wearing turquoise jew...</td>\n",
       "      <td>0</td>\n",
       "      <td>alway wear turquo jewel fav</td>\n",
       "    </tr>\n",
       "    <tr>\n",
       "      <th>...</th>\n",
       "      <td>...</td>\n",
       "      <td>...</td>\n",
       "      <td>...</td>\n",
       "      <td>...</td>\n",
       "    </tr>\n",
       "    <tr>\n",
       "      <th>7995</th>\n",
       "      <td>1833084157</td>\n",
       "      <td>I can't download K-lite codec pack</td>\n",
       "      <td>1</td>\n",
       "      <td>not download klite codec pack</td>\n",
       "    </tr>\n",
       "    <tr>\n",
       "      <th>7996</th>\n",
       "      <td>2214628609</td>\n",
       "      <td>@britishxo and u didnt come see me !</td>\n",
       "      <td>1</td>\n",
       "      <td>u didnt com see</td>\n",
       "    </tr>\n",
       "    <tr>\n",
       "      <th>7997</th>\n",
       "      <td>2245101277</td>\n",
       "      <td>looking forward to a great weekend of revising...</td>\n",
       "      <td>1</td>\n",
       "      <td>look forward gre weekend rev gcse  monday pah ...</td>\n",
       "    </tr>\n",
       "    <tr>\n",
       "      <th>7998</th>\n",
       "      <td>1997866869</td>\n",
       "      <td>Heidi and spencer are michigamua-esque</td>\n",
       "      <td>1</td>\n",
       "      <td>heid spent ar michigamuaesque</td>\n",
       "    </tr>\n",
       "    <tr>\n",
       "      <th>7999</th>\n",
       "      <td>2185800618</td>\n",
       "      <td>Only thing I miss about GSM is using my G1 and...</td>\n",
       "      <td>1</td>\n",
       "      <td>thing miss gsm us g nok e</td>\n",
       "    </tr>\n",
       "  </tbody>\n",
       "</table>\n",
       "<p>20212 rows × 4 columns</p>\n",
       "</div>"
      ],
      "text/plain": [
       "              id                                               text  lable  \\\n",
       "0     1680093728              @Dreameress1 Hello!!!  Hows it going?      0   \n",
       "1     2053040367                         is on the train to london       0   \n",
       "2     2060651098  @TheLadyJane hey i wrote you a message today  ...      0   \n",
       "3     2059350074  @SuperRecords goodnight , im off to bed also  ...      0   \n",
       "4     1960820806  @SilverSteer I am always wearing turquoise jew...      0   \n",
       "...          ...                                                ...    ...   \n",
       "7995  1833084157                I can't download K-lite codec pack       1   \n",
       "7996  2214628609              @britishxo and u didnt come see me !       1   \n",
       "7997  2245101277  looking forward to a great weekend of revising...      1   \n",
       "7998  1997866869            Heidi and spencer are michigamua-esque       1   \n",
       "7999  2185800618  Only thing I miss about GSM is using my G1 and...      1   \n",
       "\n",
       "                                        normalized_text  \n",
       "0                                       hello    going   \n",
       "1                                          train london  \n",
       "2         hey wrot mess today kind gam  ar ref  playin   \n",
       "3                   goodnight  im bed also  nic talk  d  \n",
       "4                          alway wear turquo jewel fav   \n",
       "...                                                 ...  \n",
       "7995                      not download klite codec pack  \n",
       "7996                                   u didnt com see   \n",
       "7997  look forward gre weekend rev gcse  monday pah ...  \n",
       "7998                      heid spent ar michigamuaesque  \n",
       "7999                          thing miss gsm us g nok e  \n",
       "\n",
       "[20212 rows x 4 columns]"
      ]
     },
     "execution_count": 3,
     "metadata": {},
     "output_type": "execute_result"
    }
   ],
   "source": [
    "normal_tweets_text_sample_df=pd.read_excel('normal_tweets_text_sample.xlsx')\n",
    "depressive_tweets_text_sample_df=pd.read_excel('depressive_tweets_text_sample.xlsx')\n",
    "also_depressive_tweets_text_sample_df=pd.read_excel('normal_tweets_text_sample_0only.xlsx')\n",
    "tweets_text_sample_df=pd.concat([normal_tweets_text_sample_df,depressive_tweets_text_sample_df,also_depressive_tweets_text_sample_df])\n",
    "tweets_text_sample_df=tweets_text_sample_df.iloc[:,1:6]\n",
    "tweets_text_sample_df = tweets_text_sample_df.dropna(axis=0,subset = [\"normalized_text\"])\n",
    "tweets_text_sample_df\n"
   ]
  },
  {
   "cell_type": "code",
   "execution_count": 4,
   "metadata": {
    "colab": {
     "base_uri": "https://localhost:8080/"
    },
    "id": "-QJYya6t7xW6",
    "outputId": "dddd1332-9ab4-4ec7-fbe3-9ae0f172a5a0"
   },
   "outputs": [
    {
     "name": "stderr",
     "output_type": "stream",
     "text": [
      "D:\\Anaconda3\\envs\\tf2\\lib\\site-packages\\sklearn\\utils\\deprecation.py:87: FutureWarning: Function get_feature_names is deprecated; get_feature_names is deprecated in 1.0 and will be removed in 1.2. Please use get_feature_names_out instead.\n",
      "  warnings.warn(msg, category=FutureWarning)\n"
     ]
    },
    {
     "data": {
      "text/plain": [
       "array([[0., 0., 0., ..., 0., 0., 0.],\n",
       "       [0., 0., 0., ..., 0., 0., 0.],\n",
       "       [0., 0., 0., ..., 0., 0., 0.],\n",
       "       ...,\n",
       "       [0., 0., 0., ..., 0., 0., 0.],\n",
       "       [0., 0., 0., ..., 0., 0., 0.],\n",
       "       [0., 0., 0., ..., 0., 0., 0.]])"
      ]
     },
     "execution_count": 4,
     "metadata": {},
     "output_type": "execute_result"
    }
   ],
   "source": [
    "from sklearn.feature_extraction.text import TfidfVectorizer\n",
    "tv = TfidfVectorizer()\n",
    "text_tv_fit = tv.fit_transform(tweets_text_sample_df['normalized_text'].values.astype('U'))\n",
    "text_tv_fit_features = tv.get_feature_names()\n",
    "text_tv_fit_matrix = text_tv_fit.toarray()\n",
    "text_tv_fit_matrix"
   ]
  },
  {
   "cell_type": "code",
   "execution_count": 5,
   "metadata": {
    "colab": {
     "base_uri": "https://localhost:8080/"
    },
    "id": "37YT2F8_cHdt",
    "outputId": "5bfbb320-cb4a-40c7-a45e-a888cc0971c9"
   },
   "outputs": [
    {
     "data": {
      "text/plain": [
       "16025"
      ]
     },
     "execution_count": 5,
     "metadata": {},
     "output_type": "execute_result"
    }
   ],
   "source": [
    "len(text_tv_fit_features)"
   ]
  },
  {
   "cell_type": "markdown",
   "metadata": {
    "id": "ZzE9Lu1X6GC2"
   },
   "source": [
    "**SVM**+**NB**"
   ]
  },
  {
   "cell_type": "code",
   "execution_count": 6,
   "metadata": {
    "id": "oTomlYhJ1ZxN"
   },
   "outputs": [],
   "source": [
    "from sklearn.model_selection import train_test_split\n",
    "np.random.seed(1234)\n",
    "X=text_tv_fit_matrix\n",
    "y=pd.DataFrame(tweets_text_sample_df[['text','normalized_text','lable']])\n",
    "X_train, X_test, y_train, y_test = train_test_split( X, y, test_size=0.2)"
   ]
  },
  {
   "cell_type": "markdown",
   "metadata": {
    "id": "g_RSPLIEq1SF"
   },
   "source": [
    "svm"
   ]
  },
  {
   "cell_type": "code",
   "execution_count": null,
   "metadata": {
    "colab": {
     "base_uri": "https://localhost:8080/"
    },
    "id": "R9-NxfgJl1lI",
    "outputId": "3e1a15fa-afdd-42c5-db29-01f579d64435"
   },
   "outputs": [],
   "source": [
    "from sklearn import svm\n",
    "clf_svm = svm.SVC(C=0.1)\n",
    "clf_svm.fit(X_train, y_train['lable'])"
   ]
  },
  {
   "cell_type": "code",
   "execution_count": null,
   "metadata": {},
   "outputs": [],
   "source": [
    "print ('Total time for the script:',(datetime.now() - startTimeScript))"
   ]
  },
  {
   "cell_type": "code",
   "execution_count": null,
   "metadata": {
    "id": "FHBf9PGonl7u"
   },
   "outputs": [],
   "source": [
    "print(\"accuravy_train：\",clf_svm.score(X_train,y_train['lable']))\n",
    "y_pred = clf_svm.predict(X_test)"
   ]
  },
  {
   "cell_type": "code",
   "execution_count": null,
   "metadata": {
    "id": "ApJwKfKdzkSv"
   },
   "outputs": [],
   "source": [
    "svm_result=y_test[:].reset_index()\n",
    "svm_result['pred']=y_pred\n",
    "svm_result=svm_result[svm_result['lable']!=svm_result['pred']]\n",
    "svm_result.to_excel('svm_wrong_result.xlsx',index=False)"
   ]
  },
  {
   "cell_type": "code",
   "execution_count": null,
   "metadata": {
    "colab": {
     "base_uri": "https://localhost:8080/"
    },
    "id": "q92gzyQX1l2e",
    "outputId": "38a7bbc4-c7cd-4d4f-93f1-71c93a2ca751"
   },
   "outputs": [],
   "source": [
    "from sklearn import metrics\n",
    "print(metrics.classification_report(y_test['lable'], y_pred))\n",
    "\n",
    "print(\"accuracy:\", metrics.accuracy_score(y_test['lable'], y_pred))\n",
    "print(\"precision:\", metrics.precision_score(y_test['lable'], y_pred, average='macro'))\n",
    "print(\"recall:\", metrics.recall_score(y_test['lable'], y_pred, average='macro'))\n",
    "print(\"f1:\", metrics.f1_score(y_test['lable'], y_pred, average='weighted'))\n"
   ]
  },
  {
   "cell_type": "code",
   "execution_count": null,
   "metadata": {
    "id": "jozHPdBG3xJS"
   },
   "outputs": [],
   "source": [
    "y_score = clf_svm.decision_function(X_test)"
   ]
  },
  {
   "cell_type": "code",
   "execution_count": null,
   "metadata": {
    "colab": {
     "base_uri": "https://localhost:8080/",
     "height": 352
    },
    "id": "sfIEp2d0tQ2q",
    "outputId": "6f95bef4-37d7-4108-fe1f-7b00532ca9cc"
   },
   "outputs": [],
   "source": [
    "import matplotlib.pyplot as plt\n",
    "import seaborn as sns\n",
    "from sklearn import datasets, metrics, model_selection, svm\n",
    "sns.set_style('whitegrid')\n",
    "\n",
    "display = metrics.plot_roc_curve(clf_svm, X_test, y_test['lable'])\n",
    "print('type(display):',type(display))\n",
    "plt.plot([0, 1], [0, 1], color='navy',linestyle='--')\n",
    "plt.savefig(\"ROC_svm.png\")"
   ]
  },
  {
   "cell_type": "code",
   "execution_count": null,
   "metadata": {
    "colab": {
     "base_uri": "https://localhost:8080/",
     "height": 330
    },
    "id": "J_DEPvFky8gj",
    "outputId": "a65191c2-3164-4682-8e54-59be0f98f662"
   },
   "outputs": [],
   "source": [
    "import seaborn as sns\n",
    "from sklearn.metrics import confusion_matrix\n",
    "import matplotlib.pyplot as plt\n",
    "\n",
    "f,ax=plt.subplots()\n",
    "CM= confusion_matrix(y_test['lable'], y_pred)\n",
    "print(CM)\n",
    "sns.heatmap(CM,ax=ax, cmap=\"YlGn\")\n",
    "for i in range(2):\n",
    "    for j in range(2):\n",
    "        text = ax.text(j+0.5, i+0.5, CM[i, j],\n",
    "                       ha=\"center\", va=\"center\", color=\"k\")\n",
    "\n",
    "ax.text(0.5, 0.5, CM[0, 0],ha=\"center\", va=\"center\", color=\"w\")\n",
    "\n",
    "ax.set_title('Confusion Matrix') \n",
    "ax.set_xlabel('Predicted Label') \n",
    "ax.set_ylabel('True Label')\n",
    "plt.savefig(\"confusion matrix_svm.png\")"
   ]
  },
  {
   "cell_type": "markdown",
   "metadata": {
    "id": "GNbUFtp7q5Eh"
   },
   "source": [
    "NB"
   ]
  },
  {
   "cell_type": "code",
   "execution_count": 7,
   "metadata": {
    "colab": {
     "base_uri": "https://localhost:8080/"
    },
    "id": "vW6nTYoR1l5E",
    "outputId": "9346093c-c4f3-455c-fa40-2e11f4d1dea8"
   },
   "outputs": [
    {
     "data": {
      "text/plain": [
       "MultinomialNB()"
      ]
     },
     "execution_count": 7,
     "metadata": {},
     "output_type": "execute_result"
    }
   ],
   "source": [
    "from sklearn.naive_bayes import MultinomialNB\n",
    "\n",
    "clf_nb = MultinomialNB()\n",
    "clf_nb.fit(X_train, y_train['lable'])"
   ]
  },
  {
   "cell_type": "code",
   "execution_count": 8,
   "metadata": {},
   "outputs": [
    {
     "name": "stdout",
     "output_type": "stream",
     "text": [
      "Total time for the script: 0:00:10.263504\n"
     ]
    }
   ],
   "source": [
    "print ('Total time for the script:',(datetime.now() - startTimeScript))"
   ]
  },
  {
   "cell_type": "code",
   "execution_count": null,
   "metadata": {
    "colab": {
     "base_uri": "https://localhost:8080/"
    },
    "id": "NsAWs7zC1l73",
    "outputId": "edcb859c-3754-4345-dc77-6e4d97f10f85"
   },
   "outputs": [],
   "source": [
    "print(\"accuravy_train：\",clf_nb.score(X_train,y_train['lable']))\n",
    "y_pred = clf_nb.predict(X_test)"
   ]
  },
  {
   "cell_type": "code",
   "execution_count": null,
   "metadata": {
    "id": "wdQdBxR3xi8s"
   },
   "outputs": [],
   "source": [
    "nb_result=y_test[:].reset_index()\n",
    "nb_result['pred']=y_pred\n",
    "nb_result=nb_result[nb_result['lable']!=nb_result['pred']]\n",
    "nb_result.to_excel('nb_wrong_result.xlsx',index=False)"
   ]
  },
  {
   "cell_type": "code",
   "execution_count": null,
   "metadata": {
    "colab": {
     "base_uri": "https://localhost:8080/"
    },
    "id": "KlUs0v6ppzFW",
    "outputId": "53dbf898-34bc-4f49-8544-d583889e4b56"
   },
   "outputs": [],
   "source": [
    "from sklearn import metrics\n",
    "print(metrics.classification_report(y_test['lable'], y_pred))\n",
    "\n",
    "print(\"accuracy:\", metrics.accuracy_score(y_test['lable'], y_pred))\n",
    "print(\"precision:\", metrics.precision_score(y_test['lable'], y_pred, average='macro'))\n",
    "print(\"recall:\", metrics.recall_score(y_test['lable'], y_pred, average='macro'))\n",
    "print(\"f1:\", metrics.f1_score(y_test['lable'], y_pred, average='weighted'))\n"
   ]
  },
  {
   "cell_type": "code",
   "execution_count": null,
   "metadata": {
    "id": "ErgFlU2np9W_"
   },
   "outputs": [],
   "source": [
    "y_score = clf_nb.predict(X_test)"
   ]
  },
  {
   "cell_type": "code",
   "execution_count": null,
   "metadata": {
    "colab": {
     "base_uri": "https://localhost:8080/",
     "height": 352
    },
    "id": "HH07QIQps7zx",
    "outputId": "39f1ba32-8217-4884-d105-51da6119a9a1"
   },
   "outputs": [],
   "source": [
    "import matplotlib.pyplot as plt\n",
    "import seaborn as sns\n",
    "from sklearn import datasets, metrics, model_selection, svm\n",
    "sns.set_style('whitegrid')\n",
    "\n",
    "display = metrics.plot_roc_curve(clf_nb, X_test, y_test['lable'])\n",
    "print('type(display):',type(display))\n",
    "plt.plot([0, 1], [0, 1], color='navy',linestyle='--')\n",
    "plt.savefig(\"ROC_NB.png\")"
   ]
  },
  {
   "cell_type": "code",
   "execution_count": null,
   "metadata": {
    "colab": {
     "base_uri": "https://localhost:8080/",
     "height": 336
    },
    "id": "efpNrx3vqe1V",
    "outputId": "c8d23286-584c-4934-f5ce-66b3bda234b9"
   },
   "outputs": [],
   "source": [
    "import seaborn as sns\n",
    "from sklearn.metrics import confusion_matrix\n",
    "import matplotlib.pyplot as plt\n",
    "\n",
    "sns.set()\n",
    "f,ax=plt.subplots()\n",
    "CM= confusion_matrix(y_test['lable'], y_pred)\n",
    "print(CM)\n",
    "sns.heatmap(CM,ax=ax, cmap=\"YlGn\")\n",
    "for i in range(2):\n",
    "    for j in range(2):\n",
    "        text = ax.text(j+0.5, i+0.5, CM[i, j],\n",
    "                       ha=\"center\", va=\"center\", color=\"k\")\n",
    "\n",
    "ax.text(0.5, 0.5, CM[0, 0],ha=\"center\", va=\"center\", color=\"w\")\n",
    "\n",
    "ax.set_title('Confusion Matrix') \n",
    "ax.set_xlabel('Predicted Label') \n",
    "ax.set_ylabel('True Label')\n",
    "plt.savefig(\"confusion matrix_NB.png\")"
   ]
  }
 ],
 "metadata": {
  "colab": {
   "collapsed_sections": [],
   "name": "Stats402 NLP on Twitter data.ipynb",
   "provenance": [],
   "toc_visible": true
  },
  "kernelspec": {
   "display_name": "tf2",
   "language": "python",
   "name": "tf2"
  },
  "language_info": {
   "codemirror_mode": {
    "name": "ipython",
    "version": 3
   },
   "file_extension": ".py",
   "mimetype": "text/x-python",
   "name": "python",
   "nbconvert_exporter": "python",
   "pygments_lexer": "ipython3",
   "version": "3.8.12"
  }
 },
 "nbformat": 4,
 "nbformat_minor": 1
}
